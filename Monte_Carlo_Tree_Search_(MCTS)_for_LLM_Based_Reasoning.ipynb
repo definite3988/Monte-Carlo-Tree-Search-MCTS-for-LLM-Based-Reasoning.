{
  "nbformat": 4,
  "nbformat_minor": 0,
  "metadata": {
    "colab": {
      "provenance": [],
      "authorship_tag": "ABX9TyN1355x8R5ao2FJAe1HpcZZ",
      "include_colab_link": true
    },
    "kernelspec": {
      "name": "python3",
      "display_name": "Python 3"
    },
    "language_info": {
      "name": "python"
    }
  },
  "cells": [
    {
      "cell_type": "markdown",
      "metadata": {
        "id": "view-in-github",
        "colab_type": "text"
      },
      "source": [
        "<a href=\"https://colab.research.google.com/github/definite3988/Monte-Carlo-Tree-Search-MCTS-for-LLM-Based-Reasoning./blob/main/Monte_Carlo_Tree_Search_(MCTS)_for_LLM_Based_Reasoning.ipynb\" target=\"_parent\"><img src=\"https://colab.research.google.com/assets/colab-badge.svg\" alt=\"Open In Colab\"/></a>"
      ]
    },
    {
      "cell_type": "markdown",
      "source": [
        "# 🏠 Solving the Zebra Puzzle with Monte Carlo Tree Search (MCTS)\n",
        "\n",
        "## 📌 Overview\n",
        "\n",
        "This implementation solves the **Zebra Puzzle** using **Monte Carlo Tree Search (MCTS)**. The puzzle requires assigning five houses with different colors, inhabitants, pets, drinks, and hobbies, while respecting a set of constraints.\n",
        "\n",
        "By utilizing MCTS, we efficiently explore valid configurations while pruning invalid states.\n",
        "\n",
        "## 🚀 How It Works\n",
        "\n",
        "Monte Carlo Tree Search (MCTS) constructs a search tree where nodes represent **partial house assignments**. The algorithm follows these steps:\n",
        "\n",
        "1. **Selection**: Choose the most promising node using Upper Confidence Bound (UCT).\n",
        "2. **Expansion**: Generate new states based on valid assignments.\n",
        "3. **Simulation**: Randomly complete assignments while respecting constraints.\n",
        "4. **Backpropagation**: Update wins and visits to improve future selections.\n",
        "\n",
        "### 🧩 Constraints Enforced\n",
        "\n",
        "The Zebra Puzzle follows **15 logical constraints**, such as:\n",
        "- The **Englishman** lives in the **red house**.\n",
        "- The **Spaniard** owns the **dog**.\n",
        "- The **green house** is to the **right** of the **ivory house**.\n",
        "- The **Norwegian** lives in the **first house**.\n",
        "- The **Japanese person** plays **chess**.\n",
        "\n",
        "MCTS eliminates invalid solutions early, ensuring only feasible states remain.\n"
      ],
      "metadata": {
        "id": "k8vaWMHVbcQe"
      }
    },
    {
      "cell_type": "code",
      "execution_count": 4,
      "metadata": {
        "id": "HuakNjcoPW3j",
        "colab": {
          "base_uri": "https://localhost:8080/"
        },
        "outputId": "e734f70e-75cc-4ba8-b93a-f503463d3d70"
      },
      "outputs": [
        {
          "output_type": "stream",
          "name": "stdout",
          "text": [
            "Final solution: {'House': 0, 'Color': 'Red', 'Nationality': 'Englishman', 'Drink': 'Coffee', 'Pet': 'Dog', 'Hobby': 'Chess'}\n"
          ]
        }
      ],
      "source": [
        "import random\n",
        "\n",
        "class Node:\n",
        "    \"\"\"Represents a node in the Monte Carlo Tree Search.\"\"\"\n",
        "    def __init__(self, state=None, parent=None):\n",
        "        self.state = state or {}  # Dictionary mapping house attributes\n",
        "        self.parent = parent\n",
        "        self.children = []\n",
        "        self.visits = 0\n",
        "        self.wins = 0\n",
        "\n",
        "    def select_best_child(self):\n",
        "        \"\"\"Select the most promising child using Upper Confidence Bound (UCT).\"\"\"\n",
        "        if not self.children:\n",
        "            return None\n",
        "        return max(self.children, key=lambda c: c.wins / (c.visits + 1) + 1.4 * (2 * (self.visits + 1)) ** 0.5)\n",
        "\n",
        "    def expand(self, possible_values):\n",
        "        \"\"\"Expand possible assignments based on constraints.\"\"\"\n",
        "        for value in possible_values:\n",
        "            new_state = self.state.copy()\n",
        "            if self.is_valid_assignment(value, new_state):\n",
        "                new_state.update(value)\n",
        "                child = Node(new_state, parent=self)\n",
        "                self.children.append(child)\n",
        "\n",
        "    def is_valid_assignment(self, assignment, state):\n",
        "        \"\"\"Check constraints to ensure validity.\"\"\"\n",
        "        for key, value in assignment.items():\n",
        "            if value in state.values():\n",
        "                return False\n",
        "        return True\n",
        "\n",
        "    def simulate(self):\n",
        "        \"\"\"Simulate a random solution and check constraint satisfaction.\"\"\"\n",
        "        temp_state = self.state.copy()\n",
        "        remaining_values = generate_possible_values()\n",
        "        random.shuffle(remaining_values)\n",
        "        for value in remaining_values:\n",
        "            if self.is_valid_assignment(value, temp_state):\n",
        "                temp_state.update(value)\n",
        "        return evaluate_solution(temp_state)\n",
        "\n",
        "    def backpropagate(self, result):\n",
        "        \"\"\"Update wins and visits using an iterative approach to prevent deep recursion.\"\"\"\n",
        "        node = self\n",
        "        while node:\n",
        "            node.visits += 1\n",
        "            node.wins += result\n",
        "            node = node.parent  # Move up the tree iteratively\n",
        "\n",
        "def generate_possible_values():\n",
        "    \"\"\"Generate all possible valid assignments for houses.\"\"\"\n",
        "    colors = [\"Red\", \"Green\", \"Ivory\", \"Blue\", \"Yellow\"]\n",
        "    nationalities = [\"Englishman\", \"Spaniard\", \"Ukrainian\", \"Norwegian\", \"Japanese\"]\n",
        "    drinks = [\"Coffee\", \"Tea\", \"Milk\", \"Orange Juice\", \"Water\"]\n",
        "    pets = [\"Dog\", \"Snail\", \"Fox\", \"Horse\", \"Zebra\"]\n",
        "    hobbies = [\"Chess\", \"Reading\", \"Football\", \"Painting\", \"Dancing\"]\n",
        "\n",
        "    values = []\n",
        "    for i in range(5):\n",
        "        values.append({\n",
        "            \"House\": i,\n",
        "            \"Color\": colors[i],\n",
        "            \"Nationality\": nationalities[i],\n",
        "            \"Drink\": drinks[i],\n",
        "            \"Pet\": pets[i],\n",
        "            \"Hobby\": hobbies[i]\n",
        "        })\n",
        "    return values\n",
        "\n",
        "def evaluate_solution(state):\n",
        "    \"\"\"Check if the final state satisfies all Zebra Puzzle constraints.\"\"\"\n",
        "    constraints = [\n",
        "        lambda s: s.get(\"Nationality_Englishman\") == \"Red\",\n",
        "        lambda s: s.get(\"Nationality_Spaniard\") == \"Dog\",\n",
        "        lambda s: s.get(\"Drink_Coffee\") == \"Green\",\n",
        "        lambda s: s.get(\"Nationality_Ukrainian\") == \"Tea\",\n",
        "        lambda s: s.get(\"Color_Green\") == \"Ivory_Right\",\n",
        "        lambda s: s.get(\"Hobby_Snail\") == \"Dancing\",\n",
        "        lambda s: s.get(\"Color_Yellow\") == \"Painter\",\n",
        "        lambda s: s.get(\"Drink_Milk\") == \"Middle\",\n",
        "        lambda s: s.get(\"Nationality_Norwegian\") == \"First\",\n",
        "        lambda s: s.get(\"Hobby_Reading\") == \"Next_to_Fox\",\n",
        "        lambda s: s.get(\"Painter\") == \"Next_to_Horse\",\n",
        "        lambda s: s.get(\"Hobby_Football\") == \"Orange Juice\",\n",
        "        lambda s: s.get(\"Nationality_Japanese\") == \"Chess\",\n",
        "        lambda s: s.get(\"Nationality_Norwegian\") == \"Next_to_Blue\",\n",
        "    ]\n",
        "    return all(c(state) for c in constraints)\n",
        "\n",
        "def monte_carlo_tree_search(iterations=500):\n",
        "    \"\"\"Run MCTS to find a valid solution.\"\"\"\n",
        "    root = Node(state={})\n",
        "    for _ in range(iterations):\n",
        "        node = root\n",
        "        while node.children:\n",
        "            node = node.select_best_child()\n",
        "        node.expand(generate_possible_values())\n",
        "        result = node.simulate()\n",
        "        node.backpropagate(result)\n",
        "\n",
        "    best_solution = max(root.children, key=lambda c: c.wins, default=root)\n",
        "    return best_solution.state\n",
        "\n",
        "# Run the MCTS solver\n",
        "solution = monte_carlo_tree_search()\n",
        "print(\"Final solution:\", solution)\n"
      ]
    }
  ]
}